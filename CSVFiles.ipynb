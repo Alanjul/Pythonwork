{
 "cells": [
  {
   "cell_type": "code",
   "id": "initial_id",
   "metadata": {
    "collapsed": true,
    "ExecuteTime": {
     "end_time": "2024-12-18T19:22:47.624526Z",
     "start_time": "2024-12-18T19:22:47.582283Z"
    }
   },
   "source": [
    "import csv\n",
    "\n",
    "with open('accounts.csv', mode='w', newline='') as accounts:\n",
    "    writer = csv.writer(accounts)\n",
    "    writer.writerow([200, 'Jones', 10.90])\n",
    "    writer.writerow([400, 'David', 210.90])\n",
    "    writer.writerow([500, 'John', 212.90])\n",
    "    writer.writerow([600, 'Joe', 214.90])\n",
    "    writer.writerow([700, 'Jose', 217.90])\n",
    "    writer.writerow([800, 'Rich', 218.90])\n",
    "    writer.writerow([900, 'Stone', -19.90])\n",
    "\n"
   ],
   "outputs": [],
   "execution_count": 1
  },
  {
   "metadata": {
    "ExecuteTime": {
     "end_time": "2024-12-18T19:27:50.579992Z",
     "start_time": "2024-12-18T19:27:50.571682Z"
    }
   },
   "cell_type": "code",
   "source": [
    "with open('accounts.csv', mode='r', newline='') as accounts:\n",
    "    print(f\"{\"Accounts\":<10}{\"Name\":<10}{\"Balance\":>10}\")\n",
    "    reader = csv.reader(accounts)\n",
    "    for row in reader:\n",
    "        account_number, account_name, account_balance = row\n",
    "        print(f\"{account_number:<10}{account_name:<10}{account_balance:>10}\")"
   ],
   "id": "a30131d22d3353e1",
   "outputs": [
    {
     "name": "stdout",
     "output_type": "stream",
     "text": [
      "Accounts  Name         Balance\n",
      "200       Jones           10.9\n",
      "400       David          210.9\n",
      "500       John           212.9\n",
      "600       Joe            214.9\n",
      "700       Jose           217.9\n",
      "800       Rich           218.9\n",
      "900       Stone          -19.9\n"
     ]
    }
   ],
   "execution_count": 2
  },
  {
   "metadata": {
    "ExecuteTime": {
     "end_time": "2024-12-18T19:31:52.401177Z",
     "start_time": "2024-12-18T19:31:52.395939Z"
    }
   },
   "cell_type": "code",
   "source": [
    "with open('gradez.csv', mode='w', newline='') as grades:\n",
    "    writer = csv.writer(grades)\n",
    "    writer.writerow([1,\"Red\",'A'])\n",
    "    writer.writerow([2,\"Green\",'B'])\n",
    "    writer.writerow([3,\"Yellow\",'A'])\n",
    "    writer.writerow([4,\"Pink\",'G'])\n"
   ],
   "id": "9a78ecdef2222e60",
   "outputs": [],
   "execution_count": 3
  },
  {
   "metadata": {
    "ExecuteTime": {
     "end_time": "2024-12-18T19:34:08.182544Z",
     "start_time": "2024-12-18T19:34:08.173321Z"
    }
   },
   "cell_type": "code",
   "source": [
    "with open('gradez.csv', mode='r', newline='') as grades:\n",
    "    print(f\"{\"ID\":<5}{\"Name\":<10}{\"Grade\"}\")\n",
    "    reader = csv.reader(grades)\n",
    "    for row in reader:\n",
    "        student_id, name, grade = row\n",
    "        print(f\"{student_id:<5}{name:<10}{grade}\")"
   ],
   "id": "cef3c6ab1a68df1f",
   "outputs": [
    {
     "name": "stdout",
     "output_type": "stream",
     "text": [
      "ID   Name      Grade\n",
      "1    Red       A\n",
      "2    Green     B\n",
      "3    Yellow    A\n",
      "4    Pink      G\n"
     ]
    }
   ],
   "execution_count": 6
  },
  {
   "metadata": {},
   "cell_type": "code",
   "outputs": [],
   "execution_count": null,
   "source": "",
   "id": "f538639f1f113d9a"
  }
 ],
 "metadata": {
  "kernelspec": {
   "display_name": "Python 3",
   "language": "python",
   "name": "python3"
  },
  "language_info": {
   "codemirror_mode": {
    "name": "ipython",
    "version": 2
   },
   "file_extension": ".py",
   "mimetype": "text/x-python",
   "name": "python",
   "nbconvert_exporter": "python",
   "pygments_lexer": "ipython2",
   "version": "2.7.6"
  }
 },
 "nbformat": 4,
 "nbformat_minor": 5
}
