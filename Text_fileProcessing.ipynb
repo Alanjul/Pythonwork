{
 "cells": [
  {
   "cell_type": "code",
   "id": "initial_id",
   "metadata": {
    "collapsed": true,
    "ExecuteTime": {
     "end_time": "2024-12-17T20:50:49.133896Z",
     "start_time": "2024-12-17T20:50:49.106213Z"
    }
   },
   "source": [
    "from IPython.terminal.shortcuts.auto_suggest import accept_character\n",
    "\n",
    "#open the file for reading\n",
    "with open('accounts.txt', mode='r') as accounts:\n",
    "    print(f\"{'Accounts': <10} {\"Name\": <10} {\"Balance\":<10}\")\n",
    "    for record in accounts:\n",
    "        accounts, name, balance = record.split()\n",
    "        print(f\"{accounts:<10} {name:<10} {balance:<10}\")\n"
   ],
   "outputs": [
    {
     "name": "stdout",
     "output_type": "stream",
     "text": [
      "Accounts   Name       Balance   \n"
     ]
    },
    {
     "ename": "ValueError",
     "evalue": "not enough values to unpack (expected 3, got 2)",
     "output_type": "error",
     "traceback": [
      "\u001B[1;31m---------------------------------------------------------------------------\u001B[0m",
      "\u001B[1;31mValueError\u001B[0m                                Traceback (most recent call last)",
      "Cell \u001B[1;32mIn[3], line 7\u001B[0m\n\u001B[0;32m      5\u001B[0m \u001B[38;5;28mprint\u001B[39m(\u001B[38;5;124mf\u001B[39m\u001B[38;5;124m\"\u001B[39m\u001B[38;5;132;01m{\u001B[39;00m\u001B[38;5;124m'\u001B[39m\u001B[38;5;124mAccounts\u001B[39m\u001B[38;5;124m'\u001B[39m\u001B[38;5;132;01m:\u001B[39;00m\u001B[38;5;124m <10\u001B[39m\u001B[38;5;132;01m}\u001B[39;00m\u001B[38;5;124m \u001B[39m\u001B[38;5;132;01m{\u001B[39;00m\u001B[38;5;124m\"\u001B[39m\u001B[38;5;124mName\u001B[39m\u001B[38;5;124m\"\u001B[39m\u001B[38;5;132;01m:\u001B[39;00m\u001B[38;5;124m <10\u001B[39m\u001B[38;5;132;01m}\u001B[39;00m\u001B[38;5;124m \u001B[39m\u001B[38;5;132;01m{\u001B[39;00m\u001B[38;5;124m\"\u001B[39m\u001B[38;5;124mBalance\u001B[39m\u001B[38;5;124m\"\u001B[39m\u001B[38;5;132;01m:\u001B[39;00m\u001B[38;5;124m<10\u001B[39m\u001B[38;5;132;01m}\u001B[39;00m\u001B[38;5;124m\"\u001B[39m)\n\u001B[0;32m      6\u001B[0m \u001B[38;5;28;01mfor\u001B[39;00m record \u001B[38;5;129;01min\u001B[39;00m accounts:\n\u001B[1;32m----> 7\u001B[0m     accounts, name, balance \u001B[38;5;241m=\u001B[39m record\u001B[38;5;241m.\u001B[39msplit()\n\u001B[0;32m      8\u001B[0m     \u001B[38;5;28mprint\u001B[39m(\u001B[38;5;124mf\u001B[39m\u001B[38;5;124m\"\u001B[39m\u001B[38;5;132;01m{\u001B[39;00maccounts\u001B[38;5;132;01m:\u001B[39;00m\u001B[38;5;124m<10\u001B[39m\u001B[38;5;132;01m}\u001B[39;00m\u001B[38;5;124m \u001B[39m\u001B[38;5;132;01m{\u001B[39;00mname\u001B[38;5;132;01m:\u001B[39;00m\u001B[38;5;124m<10\u001B[39m\u001B[38;5;132;01m}\u001B[39;00m\u001B[38;5;124m \u001B[39m\u001B[38;5;132;01m{\u001B[39;00mbalance\u001B[38;5;132;01m:\u001B[39;00m\u001B[38;5;124m<10\u001B[39m\u001B[38;5;132;01m}\u001B[39;00m\u001B[38;5;124m\"\u001B[39m)\n",
      "\u001B[1;31mValueError\u001B[0m: not enough values to unpack (expected 3, got 2)"
     ]
    }
   ],
   "execution_count": 3
  },
  {
   "metadata": {
    "ExecuteTime": {
     "end_time": "2024-12-17T20:51:01.375316Z",
     "start_time": "2024-12-17T20:51:01.363836Z"
    }
   },
   "cell_type": "code",
   "source": "",
   "id": "5c70c575986ba9e8",
   "outputs": [],
   "execution_count": null
  },
  {
   "metadata": {
    "ExecuteTime": {
     "end_time": "2024-12-17T20:52:02.041258Z",
     "start_time": "2024-12-17T20:52:02.036225Z"
    }
   },
   "cell_type": "code",
   "source": "",
   "id": "febaf1f65194c0fb",
   "outputs": [],
   "execution_count": null
  },
  {
   "metadata": {},
   "cell_type": "code",
   "outputs": [],
   "execution_count": null,
   "source": "",
   "id": "b8daae91d7d08e6d"
  }
 ],
 "metadata": {
  "kernelspec": {
   "display_name": "Python 3",
   "language": "python",
   "name": "python3"
  },
  "language_info": {
   "codemirror_mode": {
    "name": "ipython",
    "version": 2
   },
   "file_extension": ".py",
   "mimetype": "text/x-python",
   "name": "python",
   "nbconvert_exporter": "python",
   "pygments_lexer": "ipython2",
   "version": "2.7.6"
  }
 },
 "nbformat": 4,
 "nbformat_minor": 5
}
