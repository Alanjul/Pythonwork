{
 "cells": [
  {
   "cell_type": "code",
   "id": "initial_id",
   "metadata": {
    "collapsed": true,
    "ExecuteTime": {
     "end_time": "2024-12-08T23:48:08.146745Z",
     "start_time": "2024-12-08T23:48:08.105939Z"
    }
   },
   "source": [
    "def merge(arr,left,mid, right):\n",
    "    n1 = mid -left+1\n",
    "    n2 = right -mid\n",
    "    #create temporary array\n",
    "    array1 = [0]* n1 #left array created\n",
    "    array2 = [0] * n2 #right array created\n",
    "\n",
    "    #copy elements in array1 and array2\n",
    "    for i in range(n1):\n",
    "        array1[i] = arr[left +i]\n",
    "    for j in range(n2):\n",
    "        array2[j] = arr[mid+1 +j]\n",
    "    i = 0\n",
    "    j= 0\n",
    "    k = left #initializing the index of original array\n",
    "    while i < n1 and j < n2:\n",
    "        if array1[i] < array2[j]:\n",
    "            arr[k] = array1[i]\n",
    "            i +=1\n",
    "        else:\n",
    "            arr[k] = array2[j]\n",
    "            j+=1\n",
    "        k+=1\n",
    "        #sorting any remaining item in array1\n",
    "    while i < n1:\n",
    "        arr[k] = array1[i]\n",
    "        i +=1\n",
    "        k+=1\n",
    "        #sorting an remaining items in array2\n",
    "    while j < n2:\n",
    "        arr[k] = array2[j]\n",
    "        j +=1\n",
    "        k+=1\n",
    "def mergeSort(arr, left, right):\n",
    "    if left < right:\n",
    "        mid = (left + right) // 2\n",
    "        mergeSort(arr, left, mid)\n",
    "        mergeSort(arr, mid + 1, right)\n",
    "        merge(arr, left, mid, right)\n",
    "        return arr\n",
    "def printArray(arr):\n",
    "    for i in range(len(arr)):\n",
    "        print(arr[i], end=\" \")\n",
    "if __name__ == \"__main__\":\n",
    "    elements = [1, 12, 16, 5, 18, 3, 5, 10,100, 90, 25, 36]\n",
    "    printArray(elements)\n",
    "    mergeSort(elements, 0, len(elements) - 1)\n",
    "    print()\n",
    "    printArray(elements)\n"
   ],
   "outputs": [
    {
     "name": "stdout",
     "output_type": "stream",
     "text": [
      "1 12 16 5 18 3 5 10 100 90 25 36 \n",
      "1 3 5 5 10 12 16 18 25 36 90 100 "
     ]
    }
   ],
   "execution_count": 2
  },
  {
   "metadata": {},
   "cell_type": "code",
   "outputs": [],
   "execution_count": null,
   "source": "",
   "id": "76a3da11d4a2bd71"
  }
 ],
 "metadata": {
  "kernelspec": {
   "display_name": "Python 3",
   "language": "python",
   "name": "python3"
  },
  "language_info": {
   "codemirror_mode": {
    "name": "ipython",
    "version": 2
   },
   "file_extension": ".py",
   "mimetype": "text/x-python",
   "name": "python",
   "nbconvert_exporter": "python",
   "pygments_lexer": "ipython2",
   "version": "2.7.6"
  }
 },
 "nbformat": 4,
 "nbformat_minor": 5
}
