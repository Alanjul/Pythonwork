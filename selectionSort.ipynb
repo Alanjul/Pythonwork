{
 "cells": [
  {
   "cell_type": "code",
   "id": "initial_id",
   "metadata": {
    "collapsed": true,
    "ExecuteTime": {
     "end_time": "2024-12-09T00:38:14.606969Z",
     "start_time": "2024-12-09T00:38:14.599495Z"
    }
   },
   "source": [
    "def selectionSort(arr):\n",
    "    #loop through the arra element\n",
    "    n = len(arr)\n",
    "    for i in range(n):\n",
    "        min_location = i\n",
    "        #loop through the array finding the smallest element\n",
    "        for  j in range(i+1, n):\n",
    "            if arr[j] < arr[min_location]:\n",
    "                min_location = j\n",
    "        arr[i], arr[min_location] = arr[min_location], arr[i]\n",
    "def display(arr):\n",
    "    n = len(arr)\n",
    "    for i in range(n):\n",
    "        print(arr[i], end=\" \")\n",
    "    print()\n",
    "if __name__ == \"__main__\":\n",
    "    elements = [68,15,67,188,12,1,6]\n",
    "    print(\"UnSorted elements: \")\n",
    "    display(elements)\n",
    "    print(\"Sorted elements: \")\n",
    "    selectionSort(elements)\n",
    "    display(elements)"
   ],
   "outputs": [
    {
     "name": "stdout",
     "output_type": "stream",
     "text": [
      "UnSorted elements: \n",
      "68 15 67 188 12 1 6 \n",
      "Sorted elements: \n",
      "1 6 12 15 67 68 188 \n"
     ]
    }
   ],
   "execution_count": 2
  },
  {
   "metadata": {},
   "cell_type": "code",
   "outputs": [],
   "execution_count": null,
   "source": "",
   "id": "73be86317390c2fd"
  },
  {
   "metadata": {
    "ExecuteTime": {
     "end_time": "2024-12-17T00:16:02.686874Z",
     "start_time": "2024-12-17T00:16:02.678243Z"
    }
   },
   "cell_type": "code",
   "source": [
    "import pandas as pd\n",
    "import re\n",
    "contacts = [[\"ALan Julius\", \"alan@ru,com\", 5555668124],\n",
    "            [\"Emily Josephine\", \"Emily@j.com\", 4414436214]]\n",
    "contactsdataframe= pd.DataFrame(contacts, columns=[\"Name\", \"Email\", 'Phone'])\n",
    "\n",
    "def format_phone(value):\n",
    "    value = str(value)\n",
    "    results3 = re.fullmatch(r'(\\d{3})(\\d{3})(\\d{4})', value)\n",
    "    return '_'.join(results3.groups()) if results3 else value\n",
    "formatPhone = contactsdataframe['Phone'].map(format_phone)\n",
    "print(formatPhone)"
   ],
   "id": "6a5826cfd36cc29e",
   "outputs": [
    {
     "name": "stdout",
     "output_type": "stream",
     "text": [
      "0    555_566_8124\n",
      "1    441_443_6214\n",
      "Name: Phone, dtype: object\n"
     ]
    }
   ],
   "execution_count": 3
  }
 ],
 "metadata": {
  "kernelspec": {
   "display_name": "Python 3",
   "language": "python",
   "name": "python3"
  },
  "language_info": {
   "codemirror_mode": {
    "name": "ipython",
    "version": 2
   },
   "file_extension": ".py",
   "mimetype": "text/x-python",
   "name": "python",
   "nbconvert_exporter": "python",
   "pygments_lexer": "ipython2",
   "version": "2.7.6"
  }
 },
 "nbformat": 4,
 "nbformat_minor": 5
}
